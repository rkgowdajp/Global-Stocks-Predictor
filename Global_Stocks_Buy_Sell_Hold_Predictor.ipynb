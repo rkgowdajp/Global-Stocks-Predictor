{
 "cells": [
  {
   "cell_type": "code",
   "execution_count": 1,
   "id": "strange-scanning",
   "metadata": {},
   "outputs": [],
   "source": [
    "import pandas as pd\n",
    "from collections import Counter\n",
    "import numpy as np\n",
    "from sklearn import svm, neighbors\n",
    "from sklearn.model_selection import train_test_split\n",
    "from sklearn.ensemble import VotingClassifier, RandomForestClassifier\n",
    "from ipywidgets import interact, interactive, fixed, interact_manual\n",
    "import ipywidgets as widgets\n",
    "from IPython.display import HTML"
   ]
  },
  {
   "cell_type": "code",
   "execution_count": 2,
   "id": "german-edmonton",
   "metadata": {},
   "outputs": [
    {
     "data": {
      "text/html": [
       "<script>\n",
       "code_show=true; \n",
       "function code_toggle() {\n",
       " if (code_show){\n",
       " $('div.input').hide();\n",
       " } else {\n",
       " $('div.input').show();\n",
       " }\n",
       " code_show = !code_show\n",
       "} \n",
       "$( document ).ready(code_toggle);\n",
       "</script>\n",
       "The raw code for this IPython notebook is by default hidden for easier reading.\n",
       "To toggle on/off the raw code, click <a href=\"javascript:code_toggle()\">here</a>."
      ],
      "text/plain": [
       "<IPython.core.display.HTML object>"
      ]
     },
     "execution_count": 2,
     "metadata": {},
     "output_type": "execute_result"
    }
   ],
   "source": [
    "HTML('''<script>\n",
    "code_show=true; \n",
    "function code_toggle() {\n",
    " if (code_show){\n",
    " $('div.input').hide();\n",
    " } else {\n",
    " $('div.input').show();\n",
    " }\n",
    " code_show = !code_show\n",
    "} \n",
    "$( document ).ready(code_toggle);\n",
    "</script>\n",
    "The raw code for this IPython notebook is by default hidden for easier reading.\n",
    "To toggle on/off the raw code, click <a href=\"javascript:code_toggle()\">here</a>.''')"
   ]
  },
  {
   "cell_type": "code",
   "execution_count": 63,
   "id": "australian-lending",
   "metadata": {},
   "outputs": [],
   "source": [
    "def process_data_for_labels(ticker):\n",
    "    hm_days = 7\n",
    "    df = pd.read_csv('snp500_joined_closes.csv', index_col=0)\n",
    "    if '.T' in ticker:\n",
    "        print('Start correlate and predict ' + ticker + ' against Nikkei 225 components')\n",
    "        df = pd.read_csv('nikkei225_joined_closes.csv', index_col=0)\n",
    "    elif '.L' in ticker:\n",
    "        print('Start correlate and predict ' + ticker + ' against FTSE 100 components')\n",
    "        df = pd.read_csv('ftse_joined_closes.csv', index_col=0)\n",
    "    elif '.BO' in ticker:\n",
    "        print('Start correlate and predict ' + ticker + ' against BSE components')\n",
    "        df = pd.read_csv('bse_joined_closes.csv', index_col=0)\n",
    "    elif '.NS' in ticker:\n",
    "        print('Start correlate and predict ' + ticker + ' against NIFTY components')\n",
    "        df = pd.read_csv('nifty_joined_closes.csv', index_col=0)\n",
    "    else:\n",
    "        print('Start correlate and predict ' + ticker + ' against S&P 500 components')\n",
    "        df = pd.read_csv('snp500_joined_closes.csv', index_col=0)\n",
    "    \n",
    "    tickers = df.columns.values.tolist()\n",
    "    df.fillna(0, inplace=True)\n",
    "\n",
    "    for i in range(1,hm_days+1):\n",
    "        df['{}_{}d'.format(ticker,i)] = (df[ticker].shift(-i) - df[ticker]) / df[ticker]\n",
    "\n",
    "    df.fillna(0, inplace=True)\n",
    "    return tickers, df"
   ]
  },
  {
   "cell_type": "code",
   "execution_count": 64,
   "id": "upper-mainstream",
   "metadata": {},
   "outputs": [],
   "source": [
    "def buy_sell_hold(*args):\n",
    "    cols = [c for c in args]\n",
    "    requirement = 0.02\n",
    "    for col in cols:\n",
    "        if col > requirement:\n",
    "            return 1\n",
    "        if col < -requirement:\n",
    "            return -1\n",
    "    return 0"
   ]
  },
  {
   "cell_type": "code",
   "execution_count": 65,
   "id": "premium-conservation",
   "metadata": {},
   "outputs": [],
   "source": [
    "def extract_featuresets(ticker):\n",
    "    tickers, df = process_data_for_labels(ticker)\n",
    "\n",
    "    df['{}_target'.format(ticker)] = list(map( buy_sell_hold,\n",
    "                                               df['{}_1d'.format(ticker)],\n",
    "                                               df['{}_2d'.format(ticker)],\n",
    "                                               df['{}_3d'.format(ticker)],\n",
    "                                               df['{}_4d'.format(ticker)],\n",
    "                                               df['{}_5d'.format(ticker)],\n",
    "                                               df['{}_6d'.format(ticker)],\n",
    "                                               df['{}_7d'.format(ticker)] ))\n",
    "\n",
    "\n",
    "    vals = df['{}_target'.format(ticker)].values.tolist()\n",
    "    str_vals = [str(i) for i in vals]\n",
    "    print('Data spread:',Counter(str_vals))\n",
    "\n",
    "    df.fillna(0, inplace=True)\n",
    "    df = df.replace([np.inf, -np.inf], np.nan)\n",
    "    df.dropna(inplace=True)\n",
    "\n",
    "    df_vals = df[[ticker_name for ticker_name in tickers]].pct_change()\n",
    "    df_vals = df_vals.replace([np.inf, -np.inf], 0)\n",
    "    df_vals.fillna(0, inplace=True)\n",
    "\n",
    "    X = df_vals.values\n",
    "    y = df['{}_target'.format(ticker)].values\n",
    "\n",
    "    return X,y,df\n"
   ]
  },
  {
   "cell_type": "code",
   "execution_count": 66,
   "id": "beautiful-midnight",
   "metadata": {},
   "outputs": [],
   "source": [
    "def do_ml(ticker):\n",
    "    X, y, df = extract_featuresets(ticker)\n",
    "\n",
    "    X_train, X_test, y_train, y_test = train_test_split(X,\n",
    "                                                        y,\n",
    "                                                        test_size=0.25)\n",
    "\n",
    "    #clf = neighbors.KNeighborsClassifier()\n",
    "\n",
    "    clf = VotingClassifier([('lsvc', svm.LinearSVC()),\n",
    "                            ('knn', neighbors.KNeighborsClassifier()),\n",
    "                            ('rfor',RandomForestClassifier())])\n",
    "\n",
    "\n",
    "    clf.fit(X_train, y_train)\n",
    "    confidence = clf.score(X_test, y_test)\n",
    "    print('accuracy:',confidence)\n",
    "    predictions = clf.predict(X_test)\n",
    "    print('predicted class counts:',Counter(predictions))\n",
    "    print(ticker)\n",
    "    print()\n",
    "    return confidence"
   ]
  },
  {
   "cell_type": "markdown",
   "id": "frequent-surge",
   "metadata": {},
   "source": [
    "Usage: Source yahoo finance tickers\n",
    "    \n",
    "    Nikkei Index: Ticker 7203.T for Toyota\n",
    "        \n",
    "    S&P 500 Index: Ticker AAPL for Apple\n",
    "        \n",
    "    FTSE 100 Index: Ticker HSBA.L for HSBC bank\n",
    "        \n",
    "    BSE Index: Ticker INFY.BO for Infosys\n",
    "    \n",
    "    Nifty Index: INFY.NS for Infosys"
   ]
  },
  {
   "cell_type": "markdown",
   "id": "korean-spanking",
   "metadata": {},
   "source": [
    "Result: If the stock goes up more than 2% in next 7 days, Its a BUY ( BUY->1)\n",
    "        \n",
    "        If the stock goes down more than 2% in next 7 days, Its a SELL ( SELL->-1)\n",
    "        \n",
    "        Its a HOLD if it does not move 2% in next 7 days ( HOLD->0)\n",
    "        \n",
    "        accuracy is % of chance,  0.5 is 50%, Better the accuracy, more chance of prediction"
   ]
  },
  {
   "cell_type": "code",
   "execution_count": 67,
   "id": "modern-summer",
   "metadata": {},
   "outputs": [
    {
     "data": {
      "application/vnd.jupyter.widget-view+json": {
       "model_id": "06da23ee769c418a835a768ed1288952",
       "version_major": 2,
       "version_minor": 0
      },
      "text/plain": [
       "interactive(children=(Text(value='AAPL', description='ticker'), Output()), _dom_classes=('widget-interact',))"
      ]
     },
     "metadata": {},
     "output_type": "display_data"
    }
   ],
   "source": [
    "interact(do_ml, ticker='AAPL');"
   ]
  }
 ],
 "metadata": {
  "kernelspec": {
   "display_name": "Python 3",
   "language": "python",
   "name": "python3"
  },
  "language_info": {
   "codemirror_mode": {
    "name": "ipython",
    "version": 3
   },
   "file_extension": ".py",
   "mimetype": "text/x-python",
   "name": "python",
   "nbconvert_exporter": "python",
   "pygments_lexer": "ipython3",
   "version": "3.9.2"
  }
 },
 "nbformat": 4,
 "nbformat_minor": 5
}
